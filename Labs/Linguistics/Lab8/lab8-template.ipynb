{
 "cells": [
  {
   "cell_type": "markdown",
   "id": "0559cfc1",
   "metadata": {},
   "source": [
    "#### Problem 1\n",
    "We are given the following text:  \n",
    "“Sam was born on 12-12-2000. He moved to California on 03/25/2018. On April 1, 2022 he moved back to New York.”\n",
    "\n",
    "**1.1**   \n",
    "Why would using regular expressions for finding any date be problematic? Write your thoughts in 1-4 sentences below.\n",
    "\n",
    "**1.2**  \n",
    "Using regular expressions, find all the dates. For easier output, use two regular expressions. The regexes need to be general enough to be usable for months other than April.\n",
    "\n"
   ]
  },
  {
   "cell_type": "markdown",
   "id": "60558bf8",
   "metadata": {},
   "source": [
    "**Write answer to 1.1 here**"
   ]
  },
  {
   "cell_type": "code",
   "execution_count": 3,
   "id": "dacdf0f7",
   "metadata": {},
   "outputs": [],
   "source": [
    "import re\n",
    "#Code for Problem 1.2 here"
   ]
  },
  {
   "cell_type": "markdown",
   "id": "84bc698f",
   "metadata": {},
   "source": [
    "#### Problem 2  \n",
    "We have a snippet from the local exchange board (all personal info is fictional and any overlap with real life is coincidental):    \n",
    "\n",
    "“Looking for a new apartment starting in June. Email gr1234@columbia.edu.  \n",
    "Selling a brand new couch. Email for pictures grizzly.bear@cs.columbia.edu.  \n",
    "Looking for a Halloween costume. Email summer_rain@gmail.com.  \n",
    "I have extra Air pods I am giving out for free. My email is lester@hotmail.co.uk.”\n",
    "\n",
    " \n",
    "Find and extract all emails using regular expressions."
   ]
  },
  {
   "cell_type": "code",
   "execution_count": 4,
   "id": "0d32316e",
   "metadata": {},
   "outputs": [],
   "source": [
    "#Code for problem 2 here"
   ]
  },
  {
   "cell_type": "markdown",
   "id": "86dbd470",
   "metadata": {},
   "source": [
    "#### Problem 3\n",
    "\n",
    "We would like to replace the dates in the text from question 1 with dollar signs (for example, for confidentiality reasons). Use the re.sub function to replace all dates. \n",
    "\n",
    "Optional: replace them with the same number of characters as the date in the original text."
   ]
  },
  {
   "cell_type": "code",
   "execution_count": 5,
   "id": "66ef685f",
   "metadata": {},
   "outputs": [],
   "source": [
    "#Code for problem 3 here"
   ]
  },
  {
   "cell_type": "markdown",
   "id": "a1be1795",
   "metadata": {},
   "source": [
    "#### Problem 4\n",
    "SpaCy introduction: Take the text from question 1, extract and print all the named entities using spaCy."
   ]
  },
  {
   "cell_type": "code",
   "execution_count": 6,
   "id": "e52efb0d",
   "metadata": {},
   "outputs": [],
   "source": [
    "#Code for problem 4 here"
   ]
  }
 ],
 "metadata": {
  "kernelspec": {
   "display_name": "Python 3",
   "language": "python",
   "name": "python3"
  },
  "language_info": {
   "codemirror_mode": {
    "name": "ipython",
    "version": 3
   },
   "file_extension": ".py",
   "mimetype": "text/x-python",
   "name": "python",
   "nbconvert_exporter": "python",
   "pygments_lexer": "ipython3",
   "version": "3.10.0"
  },
  "vscode": {
   "interpreter": {
    "hash": "175bf1448a8eda539dc2541af38946e4894183a9a2673d7ffdfa3f7ab6f4fe30"
   }
  }
 },
 "nbformat": 4,
 "nbformat_minor": 5
}

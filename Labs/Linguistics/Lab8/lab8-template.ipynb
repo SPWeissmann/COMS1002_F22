{
 "cells": [
  {
   "cell_type": "markdown",
   "id": "0559cfc1",
   "metadata": {},
   "source": [
    "### Problem 1\n",
    "\n",
    "We are given the following text:\n",
    "\n",
    "“Sam was born on 12-12-2000. He moved to California on 03/25/2018. On April 1, 2022 he moved back to New York.”\n",
    "\n",
    "#### 1.1 \n",
    "Why would using regular expressions for finding any date be problematic? Write your thoughts in less 1-5 sentences below.\n",
    "\n",
    "\n",
    "### 1.2 \n",
    "Using regular expressions, find all the dates. For easier output, use two regular expressions. The regexes need to be general enough to be usable for months other than April.\n",
    "\n"
   ]
  },
  {
   "cell_type": "markdown",
   "id": "60558bf8",
   "metadata": {},
   "source": []
  },
  {
   "cell_type": "code",
   "execution_count": 1,
   "id": "58cc3875",
   "metadata": {},
   "outputs": [],
   "source": [
    "import re \n",
    "\n"
   ]
  },
  {
   "cell_type": "code",
   "execution_count": null,
   "id": "dacdf0f7",
   "metadata": {},
   "outputs": [],
   "source": []
  },
  {
   "cell_type": "markdown",
   "id": "84bc698f",
   "metadata": {},
   "source": [
    "### Problem 2\n",
    "We have a snippet from the local exchange board (all personal info is fictional and any overlap with real life is coincidental):\n",
    "\n",
    "“Looking for a new apartment starting in June. Email gr1234@columbia.edu.\n",
    "Selling a brand new couch. Email for pictures grizzly.bear@cs.columbia.edu.\n",
    "Looking for a Halloween costume. Email summer_rain@gmail.com.\n",
    "I have extra Air pods I am giving out for free. My email is lester@hotmail.co.uk.”\n",
    "\n",
    "\n",
    "#### 2.1 \n",
    "Find and extract all emails using regular express"
   ]
  },
  {
   "cell_type": "code",
   "execution_count": null,
   "id": "0d32316e",
   "metadata": {},
   "outputs": [],
   "source": []
  }
 ],
 "metadata": {
  "kernelspec": {
   "display_name": "Python 3 (ipykernel)",
   "language": "python",
   "name": "python3"
  },
  "language_info": {
   "codemirror_mode": {
    "name": "ipython",
    "version": 3
   },
   "file_extension": ".py",
   "mimetype": "text/x-python",
   "name": "python",
   "nbconvert_exporter": "python",
   "pygments_lexer": "ipython3",
   "version": "3.9.12"
  }
 },
 "nbformat": 4,
 "nbformat_minor": 5
}
